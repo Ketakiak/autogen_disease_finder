{
  "nbformat": 4,
  "nbformat_minor": 0,
  "metadata": {
    "colab": {
      "provenance": [],
      "authorship_tag": "ABX9TyMzyxXe0XEag7tPE0SKEwtl",
      "include_colab_link": true
    },
    "kernelspec": {
      "name": "python3",
      "display_name": "Python 3"
    },
    "language_info": {
      "name": "python"
    }
  },
  "cells": [
    {
      "cell_type": "markdown",
      "metadata": {
        "id": "view-in-github",
        "colab_type": "text"
      },
      "source": [
        "<a href=\"https://colab.research.google.com/github/Ketakiak/autogen_disease_finder/blob/main/Autogen_project.ipynb\" target=\"_parent\"><img src=\"https://colab.research.google.com/assets/colab-badge.svg\" alt=\"Open In Colab\"/></a>"
      ]
    },
    {
      "cell_type": "code",
      "execution_count": 1,
      "metadata": {
        "colab": {
          "base_uri": "https://localhost:8080/"
        },
        "id": "1hEJYhFESGDI",
        "outputId": "6feacde9-776b-4cba-9966-347306d3afc6"
      },
      "outputs": [
        {
          "output_type": "stream",
          "name": "stdout",
          "text": [
            "Collecting pyautogen\n",
            "  Downloading pyautogen-0.2.27-py3-none-any.whl (273 kB)\n",
            "\u001b[2K     \u001b[90m━━━━━━━━━━━━━━━━━━━━━━━━━━━━━━━━━━━━━━━━\u001b[0m \u001b[32m273.8/273.8 kB\u001b[0m \u001b[31m4.4 MB/s\u001b[0m eta \u001b[36m0:00:00\u001b[0m\n",
            "\u001b[?25hCollecting diskcache (from pyautogen)\n",
            "  Downloading diskcache-5.6.3-py3-none-any.whl (45 kB)\n",
            "\u001b[2K     \u001b[90m━━━━━━━━━━━━━━━━━━━━━━━━━━━━━━━━━━━━━━━━\u001b[0m \u001b[32m45.5/45.5 kB\u001b[0m \u001b[31m5.1 MB/s\u001b[0m eta \u001b[36m0:00:00\u001b[0m\n",
            "\u001b[?25hCollecting docker (from pyautogen)\n",
            "  Downloading docker-7.0.0-py3-none-any.whl (147 kB)\n",
            "\u001b[2K     \u001b[90m━━━━━━━━━━━━━━━━━━━━━━━━━━━━━━━━━━━━━━━━\u001b[0m \u001b[32m147.6/147.6 kB\u001b[0m \u001b[31m6.1 MB/s\u001b[0m eta \u001b[36m0:00:00\u001b[0m\n",
            "\u001b[?25hCollecting flaml (from pyautogen)\n",
            "  Downloading FLAML-2.1.2-py3-none-any.whl (296 kB)\n",
            "\u001b[2K     \u001b[90m━━━━━━━━━━━━━━━━━━━━━━━━━━━━━━━━━━━━━━━━\u001b[0m \u001b[32m296.7/296.7 kB\u001b[0m \u001b[31m7.7 MB/s\u001b[0m eta \u001b[36m0:00:00\u001b[0m\n",
            "\u001b[?25hRequirement already satisfied: numpy<2,>=1.17.0 in /usr/local/lib/python3.10/dist-packages (from pyautogen) (1.25.2)\n",
            "Collecting openai>=1.3 (from pyautogen)\n",
            "  Downloading openai-1.30.1-py3-none-any.whl (320 kB)\n",
            "\u001b[2K     \u001b[90m━━━━━━━━━━━━━━━━━━━━━━━━━━━━━━━━━━━━━━━━\u001b[0m \u001b[32m320.6/320.6 kB\u001b[0m \u001b[31m8.6 MB/s\u001b[0m eta \u001b[36m0:00:00\u001b[0m\n",
            "\u001b[?25hRequirement already satisfied: pydantic!=2.6.0,<3,>=1.10 in /usr/local/lib/python3.10/dist-packages (from pyautogen) (2.7.1)\n",
            "Collecting python-dotenv (from pyautogen)\n",
            "  Downloading python_dotenv-1.0.1-py3-none-any.whl (19 kB)\n",
            "Requirement already satisfied: termcolor in /usr/local/lib/python3.10/dist-packages (from pyautogen) (2.4.0)\n",
            "Collecting tiktoken (from pyautogen)\n",
            "  Downloading tiktoken-0.7.0-cp310-cp310-manylinux_2_17_x86_64.manylinux2014_x86_64.whl (1.1 MB)\n",
            "\u001b[2K     \u001b[90m━━━━━━━━━━━━━━━━━━━━━━━━━━━━━━━━━━━━━━━━\u001b[0m \u001b[32m1.1/1.1 MB\u001b[0m \u001b[31m13.0 MB/s\u001b[0m eta \u001b[36m0:00:00\u001b[0m\n",
            "\u001b[?25hRequirement already satisfied: anyio<5,>=3.5.0 in /usr/local/lib/python3.10/dist-packages (from openai>=1.3->pyautogen) (3.7.1)\n",
            "Requirement already satisfied: distro<2,>=1.7.0 in /usr/lib/python3/dist-packages (from openai>=1.3->pyautogen) (1.7.0)\n",
            "Collecting httpx<1,>=0.23.0 (from openai>=1.3->pyautogen)\n",
            "  Downloading httpx-0.27.0-py3-none-any.whl (75 kB)\n",
            "\u001b[2K     \u001b[90m━━━━━━━━━━━━━━━━━━━━━━━━━━━━━━━━━━━━━━━━\u001b[0m \u001b[32m75.6/75.6 kB\u001b[0m \u001b[31m8.7 MB/s\u001b[0m eta \u001b[36m0:00:00\u001b[0m\n",
            "\u001b[?25hRequirement already satisfied: sniffio in /usr/local/lib/python3.10/dist-packages (from openai>=1.3->pyautogen) (1.3.1)\n",
            "Requirement already satisfied: tqdm>4 in /usr/local/lib/python3.10/dist-packages (from openai>=1.3->pyautogen) (4.66.4)\n",
            "Requirement already satisfied: typing-extensions<5,>=4.7 in /usr/local/lib/python3.10/dist-packages (from openai>=1.3->pyautogen) (4.11.0)\n",
            "Requirement already satisfied: annotated-types>=0.4.0 in /usr/local/lib/python3.10/dist-packages (from pydantic!=2.6.0,<3,>=1.10->pyautogen) (0.6.0)\n",
            "Requirement already satisfied: pydantic-core==2.18.2 in /usr/local/lib/python3.10/dist-packages (from pydantic!=2.6.0,<3,>=1.10->pyautogen) (2.18.2)\n",
            "Requirement already satisfied: packaging>=14.0 in /usr/local/lib/python3.10/dist-packages (from docker->pyautogen) (24.0)\n",
            "Requirement already satisfied: requests>=2.26.0 in /usr/local/lib/python3.10/dist-packages (from docker->pyautogen) (2.31.0)\n",
            "Requirement already satisfied: urllib3>=1.26.0 in /usr/local/lib/python3.10/dist-packages (from docker->pyautogen) (2.0.7)\n",
            "Requirement already satisfied: regex>=2022.1.18 in /usr/local/lib/python3.10/dist-packages (from tiktoken->pyautogen) (2023.12.25)\n",
            "Requirement already satisfied: idna>=2.8 in /usr/local/lib/python3.10/dist-packages (from anyio<5,>=3.5.0->openai>=1.3->pyautogen) (3.7)\n",
            "Requirement already satisfied: exceptiongroup in /usr/local/lib/python3.10/dist-packages (from anyio<5,>=3.5.0->openai>=1.3->pyautogen) (1.2.1)\n",
            "Requirement already satisfied: certifi in /usr/local/lib/python3.10/dist-packages (from httpx<1,>=0.23.0->openai>=1.3->pyautogen) (2024.2.2)\n",
            "Collecting httpcore==1.* (from httpx<1,>=0.23.0->openai>=1.3->pyautogen)\n",
            "  Downloading httpcore-1.0.5-py3-none-any.whl (77 kB)\n",
            "\u001b[2K     \u001b[90m━━━━━━━━━━━━━━━━━━━━━━━━━━━━━━━━━━━━━━━━\u001b[0m \u001b[32m77.9/77.9 kB\u001b[0m \u001b[31m8.5 MB/s\u001b[0m eta \u001b[36m0:00:00\u001b[0m\n",
            "\u001b[?25hCollecting h11<0.15,>=0.13 (from httpcore==1.*->httpx<1,>=0.23.0->openai>=1.3->pyautogen)\n",
            "  Downloading h11-0.14.0-py3-none-any.whl (58 kB)\n",
            "\u001b[2K     \u001b[90m━━━━━━━━━━━━━━━━━━━━━━━━━━━━━━━━━━━━━━━━\u001b[0m \u001b[32m58.3/58.3 kB\u001b[0m \u001b[31m5.8 MB/s\u001b[0m eta \u001b[36m0:00:00\u001b[0m\n",
            "\u001b[?25hRequirement already satisfied: charset-normalizer<4,>=2 in /usr/local/lib/python3.10/dist-packages (from requests>=2.26.0->docker->pyautogen) (3.3.2)\n",
            "Installing collected packages: python-dotenv, h11, flaml, diskcache, tiktoken, httpcore, docker, httpx, openai, pyautogen\n",
            "Successfully installed diskcache-5.6.3 docker-7.0.0 flaml-2.1.2 h11-0.14.0 httpcore-1.0.5 httpx-0.27.0 openai-1.30.1 pyautogen-0.2.27 python-dotenv-1.0.1 tiktoken-0.7.0\n"
          ]
        }
      ],
      "source": [
        "! pip install pyautogen"
      ]
    },
    {
      "cell_type": "code",
      "source": [],
      "metadata": {
        "id": "8sjzGdvZSPgG"
      },
      "execution_count": null,
      "outputs": []
    },
    {
      "cell_type": "code",
      "source": [
        "import autogen\n",
        "import requests\n",
        "import openai\n",
        "from autogen import Agent\n"
      ],
      "metadata": {
        "id": "dbPj-okvSPaC"
      },
      "execution_count": 10,
      "outputs": []
    },
    {
      "cell_type": "code",
      "source": [
        "#Agent 1: DiseaseFinder\n",
        "\n",
        "from autogen import Agent\n",
        "\n",
        "class DiseaseFinder(Agent):\n",
        " def respond(self, message):\n",
        "  disease = message.lower()\n",
        "  remedies = {\n",
        "   \"fever\": \"Take paracetamol\",\n",
        "   \"headache\": \"Take ibuprofen\",\n",
        "   \"cough\": \"Take cough syrup\"\n",
        "  }\n",
        "  response = remedies.get(disease, \"Remedy not found\")\n",
        "  return response\n",
        "\n",
        "if __name__ == \"__main__\":\n",
        " agent = DiseaseFinder()\n",
        " while True:\n",
        "  user_input = input(\"Enter a disease: \")\n",
        "  response = agent.respond(user_input)\n",
        "  print(response)\n",
        "  if user_input == \"na\":\n",
        "    break\n"
      ],
      "metadata": {
        "id": "Jyt3ViSxSPTg"
      },
      "execution_count": null,
      "outputs": []
    },
    {
      "cell_type": "code",
      "source": [
        "#Agent 2: SymptomChecker\n",
        "\n",
        "from autogen import Agent\n",
        "\n",
        "class SymptomChecker(Agent):\n",
        " def respond(self, message):\n",
        "  symptoms = message.lower()\n",
        "  diseases = {\n",
        "   \"high temperature\": \"Fever\",\n",
        "   \"pain in head\": \"Acidity\",\n",
        "   \"coughing\": \"Cough\"\n",
        "  }\n",
        "  response = diseases.get(symptoms, \"Disease not found\")\n",
        "  return response\n",
        "\n",
        "if __name__ == \"__main__\":\n",
        " agent = SymptomChecker()\n",
        " while True:\n",
        "  user_input = input(\"Enter symptoms: \")\n",
        "  response = agent.respond(user_input)\n",
        "  print(response)\n",
        "  if user_input == \"na\":\n",
        "    break\n",
        "\n",
        "\n"
      ],
      "metadata": {
        "id": "KTDU-FCISNHL"
      },
      "execution_count": null,
      "outputs": []
    },
    {
      "cell_type": "code",
      "source": [],
      "metadata": {
        "id": "0s2Tg1xhSNA6"
      },
      "execution_count": 1,
      "outputs": []
    },
    {
      "cell_type": "markdown",
      "source": [
        "**Using llama-3 API**"
      ],
      "metadata": {
        "id": "HMk09ZDqStBS"
      }
    },
    {
      "cell_type": "code",
      "source": [
        "\n",
        "# Agent 1: DiseaseFinder\n",
        "class DiseaseFinder(Agent):\n",
        "    def respond(self, disease):\n",
        "        disease = disease.lower()\n",
        "        api_url = f\"https://huggingface.co/meta-llama/Meta-Llama-3-8B/{disease}\"  # Replace with your actual API endpoint\n",
        "        headers = {\n",
        "            \"Authorization\": \"h****Y\",  # Replace with your actual API key\n",
        "            \"Content-Type\": \"application/json\"\n",
        "        }\n",
        "\n",
        "        try:\n",
        "            response = requests.get(api_url, headers=headers)\n",
        "            if response.status_code == 200:\n",
        "                remedy = response.json().get(\"remedy\", \"Remedy not found\")\n",
        "            else:\n",
        "                remedy = \"API request failed\"\n",
        "        except requests.exceptions.RequestException as e:\n",
        "            remedy = f\"Error fetching remedy: {str(e)}\"\n",
        "\n",
        "        return remedy\n",
        "\n",
        "if __name__ == \"__main__\":\n",
        "    agent = DiseaseFinder()\n",
        "    while True:\n",
        "        user_input = input(\"Enter a disease: \")\n",
        "        response = agent.respond(user_input)\n",
        "        print(response)\n",
        "        if user_input == \"na\":\n",
        "          break\n"
      ],
      "metadata": {
        "id": "M2YJoUHWSM7k"
      },
      "execution_count": null,
      "outputs": []
    },
    {
      "cell_type": "code",
      "source": [
        "#Agent 2\n",
        "\n",
        "\n",
        "class SymptomCheckerAgent:\n",
        "    def __init__(self, llama2_api_key):\n",
        "        self.llama2_api_url = \"[API endpoint URL]\"\n",
        "        self.headers = {\n",
        "            'Authorization': f'Bearer {actual api key}',\n",
        "            'Content-Type': 'application/json'\n",
        "        }\n",
        "\n",
        "    def check_symptoms(self, symptoms):\n",
        "        data = {\"symptoms\": symptoms}\n",
        "        response = requests.post(self.llama2_api_url, headers=self.headers, json=data)\n",
        "\n",
        "        if response.status_code == 200:\n",
        "            diseases = response.json().get('diseases', [])\n",
        "            return diseases\n",
        "        else:\n",
        "            return [f\"Error: {response.status_code} - Unable to fetch data\"]\n",
        "\n",
        "# Initialize Symptom Checker Agent with your API key\n",
        "llama2_api_key = '[actual api key]'\n",
        "symptom_checker_agent = SymptomCheckerAgent(llama2_api_key)\n",
        "\n",
        "# Example usage of Symptom Checker Agent\n",
        "symptoms = input ('Enter symptoms: ')\n",
        "possible_diseases = symptom_checker_agent.check_symptoms(symptoms)\n",
        "print(\"Possible diseases:\", possible_diseases)\n"
      ],
      "metadata": {
        "id": "XTFItBu_SMvR"
      },
      "execution_count": null,
      "outputs": []
    },
    {
      "cell_type": "code",
      "source": [],
      "metadata": {
        "id": "5Aw_jjw_sYED"
      },
      "execution_count": null,
      "outputs": []
    },
    {
      "cell_type": "code",
      "source": [
        "# create an AssistantAgent named \"assistant\"\n"
      ],
      "metadata": {
        "id": "mWNJBp-muYxs"
      },
      "execution_count": 29,
      "outputs": []
    },
    {
      "cell_type": "markdown",
      "source": [
        "I have used this approach by some already given examples on github."
      ],
      "metadata": {
        "id": "u5E6dXOs1zb4"
      }
    },
    {
      "cell_type": "markdown",
      "source": [
        "Step 1: Define the InquiryAgent Class with API Integration"
      ],
      "metadata": {
        "id": "01oaeIkA16cH"
      }
    },
    {
      "cell_type": "code",
      "source": [
        "\n",
        "class InquiryAgent(autogen.Agent):\n",
        "    def __init__(self, api_url, api_key):\n",
        "        super().__init__(name=\"InquiryAgent\")\n",
        "        self.api_url = <api_url>\n",
        "        self.api_key = <api_key>\n",
        "\n",
        "    def process(self, user_input):\n",
        "        headers = {\"Authorization\": f\"Bearer {self.api_key}\"}\n",
        "        response = requests.post(self.api_url, headers=headers, json={\"symptoms\": user_input})\n",
        "\n",
        "        if response.status_code == 200:\n",
        "            data = response.json()\n",
        "            disease = data.get(\"disease\")\n",
        "            if disease:\n",
        "                return {\"disease\": disease, \"response\": f\"It seems like you might have {disease}. I will pass this information to the Remedy Agent.\"}\n",
        "            else:\n",
        "                return {\"response\": \"I'm sorry, the API couldn't identify the disease based on the symptoms provided.\"}\n",
        "        else:\n",
        "            return {\"response\": \"There was an error contacting the disease identification service.\"}\n"
      ],
      "metadata": {
        "id": "s9qrHZqtwO6h"
      },
      "execution_count": null,
      "outputs": []
    },
    {
      "cell_type": "markdown",
      "source": [
        "Step 2: Define the RemedyAgent Class"
      ],
      "metadata": {
        "id": "h9iYDAWR2M0D"
      }
    },
    {
      "cell_type": "code",
      "source": [
        "class RemedyAgent(autogen.Agent):\n",
        "    def __init__(self):\n",
        "        super().__init__(name=\"RemedyAgent\")\n",
        "\n",
        "    def process(self, disease_info):\n",
        "        disease_remedy_map = {\n",
        "            \"influenza\": \"Rest, drink plenty of fluids, and take antiviral medications if necessary.\",\n",
        "            \"common cold\": \"Rest, stay hydrated, and use over-the-counter cold medications.\",\n",
        "            \"migraine\": \"Take prescribed migraine medication, rest in a dark room, and avoid triggers.\"\n",
        "        }\n",
        "\n",
        "        disease = disease_info.get(\"disease\")\n",
        "        remedy = disease_remedy_map.get(disease, \"Please consult a healthcare professional for advice.\")\n",
        "\n",
        "        return {\"response\": f\"For {disease}, the recommended remedy is: {remedy}\"}\n"
      ],
      "metadata": {
        "id": "u74xzu132Jz5"
      },
      "execution_count": null,
      "outputs": []
    },
    {
      "cell_type": "markdown",
      "source": [
        "Step 3: Load Configuration and Instantiate the Agents"
      ],
      "metadata": {
        "id": "CSTFexaZ2SPI"
      }
    },
    {
      "cell_type": "code",
      "source": [
        "import json\n",
        "\n",
        "def load_config(config_file):\n",
        "    with open(config_file, 'r') as file:\n",
        "        config = json.load(file)\n",
        "    return config\n",
        "\n",
        "config = load_config(\"config.json\")\n",
        "\n",
        "inquiry_agent = InquiryAgent(api_url=config[\"api_url\"], api_key=config[\"api_key\"])\n",
        "remedy_agent = RemedyAgent()\n"
      ],
      "metadata": {
        "id": "u16SewGH2Jwu"
      },
      "execution_count": null,
      "outputs": []
    },
    {
      "cell_type": "markdown",
      "source": [
        "Step 4: Define the AssistantAgent and UserProxyAgent"
      ],
      "metadata": {
        "id": "YX5fMVXF2bIL"
      }
    },
    {
      "cell_type": "code",
      "source": [
        "config_list = autogen.config_list_from_json(\n",
        "    \"/content/sample_data/OAI_CONFIG_LIST\",\n",
        "    filter_dict={\"tags\": [\"llama-3\", \"openai\"],},  # comment out to get all\n",
        ")\n",
        "user_proxy = autogen.UserProxyAgent(\n",
        "    name=\"user_proxy\",\n",
        "    human_input_mode=\"NEVER\",\n",
        "    max_consecutive_auto_reply=10,\n",
        "    is_termination_msg=lambda x: x.get(\"content\", \"\").rstrip().endswith(\"TERMINATE\"),\n",
        "    code_execution_config={\n",
        "        \"work_dir\":\"coding\",\n",
        "        \"use_docker\": False,\n",
        "    },\n",
        ")\n",
        "assistant = autogen.AssistantAgent(\n",
        "    name=\"assistant\",\n",
        "    llm_config={\n",
        "        \"cache_seed\": 41,  # seed for caching and reproducibility\n",
        "        \"config_list\": config_list,  # a list of OpenAI API configurations\n",
        "        \"temperature\": 0,  # temperature for sampling\n",
        "    },  # configuration for autogen's enhanced inference API which is compatible with OpenAI API\n",
        ")\n"
      ],
      "metadata": {
        "id": "SrHBI-Pq2Ju6"
      },
      "execution_count": null,
      "outputs": []
    },
    {
      "cell_type": "markdown",
      "source": [
        "Step 5: Integrate and Run the Agents"
      ],
      "metadata": {
        "id": "CypcdXeQ2mIH"
      }
    },
    {
      "cell_type": "code",
      "source": [
        "# Define a function to handle user inquiries and provide remedies\n",
        "def handle_user_inquiry(user_input):\n",
        "    inquiry_result = inquiry_agent.process(user_input)\n",
        "    print(inquiry_result[\"response\"])\n",
        "\n",
        "    if \"disease\" in inquiry_result:\n",
        "        remedy_result = remedy_agent.process(inquiry_result)\n",
        "        print(remedy_result[\"response\"])\n",
        "\n",
        "# Simulate user interaction\n",
        "user_input = input(\"Enter symptoms: \")\n",
        "handle_user_inquiry(user_input)\n"
      ],
      "metadata": {
        "id": "sXQa22qk2JtC"
      },
      "execution_count": null,
      "outputs": []
    },
    {
      "cell_type": "code",
      "source": [],
      "metadata": {
        "id": "fOPXFZa_2Jqz"
      },
      "execution_count": null,
      "outputs": []
    },
    {
      "cell_type": "code",
      "source": [],
      "metadata": {
        "id": "WbHn7l242JpF"
      },
      "execution_count": null,
      "outputs": []
    },
    {
      "cell_type": "code",
      "source": [],
      "metadata": {
        "id": "R_HIzCml2JnE"
      },
      "execution_count": null,
      "outputs": []
    },
    {
      "cell_type": "code",
      "source": [],
      "metadata": {
        "id": "fJPu7X_H2Jhv"
      },
      "execution_count": null,
      "outputs": []
    },
    {
      "cell_type": "code",
      "source": [],
      "metadata": {
        "id": "gBg8fVHe2JcE"
      },
      "execution_count": null,
      "outputs": []
    }
  ]
}